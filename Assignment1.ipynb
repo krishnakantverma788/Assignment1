{
 "cells": [
  {
   "cell_type": "markdown",
   "id": "205b97c2",
   "metadata": {},
   "source": [
    "### Q1. Write a Python program to get the Fibonacci series between 0 to 50"
   ]
  },
  {
   "cell_type": "code",
   "execution_count": 10,
   "id": "4840404e",
   "metadata": {},
   "outputs": [
    {
     "name": "stdout",
     "output_type": "stream",
     "text": [
      "1\n",
      "1\n",
      "2\n",
      "3\n",
      "5\n",
      "8\n",
      "13\n",
      "21\n",
      "34\n"
     ]
    }
   ],
   "source": [
    "#Method 1\n",
    "\n",
    "x = 0\n",
    "y= 1\n",
    "\n",
    "while y<50:\n",
    "    print(y)\n",
    "    x,y = y,x+y"
   ]
  },
  {
   "cell_type": "code",
   "execution_count": 9,
   "id": "984598f3",
   "metadata": {},
   "outputs": [
    {
     "name": "stdout",
     "output_type": "stream",
     "text": [
      "0\n",
      "1\n",
      "1\n",
      "2\n",
      "3\n",
      "5\n",
      "8\n",
      "13\n",
      "21\n",
      "34\n"
     ]
    }
   ],
   "source": [
    "# Method 2\n",
    "\n",
    "fibonacci_range = 50\n",
    "\n",
    "x = 0\n",
    "y = 1\n",
    "z = 0\n",
    "\n",
    "while (z <= fibonacci_range):\n",
    "    print(z)\n",
    "    x = y\n",
    "    y = z\n",
    "    z = x + y"
   ]
  },
  {
   "cell_type": "code",
   "execution_count": null,
   "id": "6524cecf",
   "metadata": {},
   "outputs": [],
   "source": []
  },
  {
   "cell_type": "markdown",
   "id": "47f014c8",
   "metadata": {},
   "source": [
    "### Q2. Write a Python program that accepts a word from the user and reverse it.\n",
    "\n",
    " "
   ]
  },
  {
   "cell_type": "code",
   "execution_count": 25,
   "id": "a60ab587",
   "metadata": {},
   "outputs": [
    {
     "name": "stdout",
     "output_type": "stream",
     "text": [
      "Please Enter a Word: ram\n",
      "mar"
     ]
    }
   ],
   "source": [
    "user_word = input(\"Please Enter a Word: \")\n",
    "\n",
    "for char in range(len(user_word) - 1, -1, -1):\n",
    "    print(user_word[char], end = \"\")\n"
   ]
  },
  {
   "cell_type": "code",
   "execution_count": null,
   "id": "a24ee4b1",
   "metadata": {},
   "outputs": [],
   "source": []
  },
  {
   "cell_type": "markdown",
   "id": "75ee0624",
   "metadata": {},
   "source": [
    "### Q3. Write a Python program to count the number of even and odd numbers from a series of numbers.\n"
   ]
  },
  {
   "cell_type": "code",
   "execution_count": 28,
   "id": "da2f602f",
   "metadata": {},
   "outputs": [
    {
     "name": "stdout",
     "output_type": "stream",
     "text": [
      "Total even numbers : 4\n",
      "Total odd numbers : 5\n"
     ]
    }
   ],
   "source": [
    "numbers_series = (1, 2, 3, 4, 5, 6, 7, 8, 9)\n",
    "odd_number = 0\n",
    "even_number = 0\n",
    "for x in numbers_series:\n",
    "        if x%2==0:\n",
    "            even_number+=1\n",
    "        else:\n",
    "            odd_number+=1\n",
    "            \n",
    "print(\"Total even numbers :\", even_number)\n",
    "print(\"Total odd numbers is:\", odd_number)"
   ]
  },
  {
   "cell_type": "code",
   "execution_count": null,
   "id": "c7252b77",
   "metadata": {},
   "outputs": [],
   "source": []
  }
 ],
 "metadata": {
  "kernelspec": {
   "display_name": "Python 3",
   "language": "python",
   "name": "python3"
  },
  "language_info": {
   "codemirror_mode": {
    "name": "ipython",
    "version": 3
   },
   "file_extension": ".py",
   "mimetype": "text/x-python",
   "name": "python",
   "nbconvert_exporter": "python",
   "pygments_lexer": "ipython3",
   "version": "3.8.8"
  }
 },
 "nbformat": 4,
 "nbformat_minor": 5
}
