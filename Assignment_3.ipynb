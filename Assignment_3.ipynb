{
 "cells": [
  {
   "cell_type": "code",
   "execution_count": null,
   "id": "b9fc7fde",
   "metadata": {},
   "outputs": [],
   "source": [
    "#  Write a Python function to sum all the numbers in a list."
   ]
  },
  {
   "cell_type": "code",
   "execution_count": 20,
   "id": "e1e912c0",
   "metadata": {},
   "outputs": [
    {
     "name": "stdout",
     "output_type": "stream",
     "text": [
      "20\n"
     ]
    }
   ],
   "source": [
    "def sum(number_of_list):\n",
    "    Total_sum = 0\n",
    "    for x in number_of_list:\n",
    "        Total_sum += x\n",
    "    return Total_sum\n",
    "\n",
    "print(sum((8,2,3,0,7)))"
   ]
  },
  {
   "cell_type": "code",
   "execution_count": null,
   "id": "203c5f46",
   "metadata": {},
   "outputs": [],
   "source": []
  },
  {
   "cell_type": "code",
   "execution_count": null,
   "id": "283c5051",
   "metadata": {},
   "outputs": [],
   "source": [
    "#Write a Python program to reverse a string."
   ]
  },
  {
   "cell_type": "code",
   "execution_count": 42,
   "id": "8ae76cce",
   "metadata": {},
   "outputs": [
    {
     "data": {
      "text/plain": [
       "'dcba4321'"
      ]
     },
     "execution_count": 42,
     "metadata": {},
     "output_type": "execute_result"
    }
   ],
   "source": [
    "def reverse(string):\n",
    "    if len(string) == 0:\n",
    "        return string\n",
    "    else:\n",
    "        return reverse(string[1:]) + string[0]\n",
    "\n",
    "reverse(\"1234abcd\")"
   ]
  },
  {
   "cell_type": "code",
   "execution_count": null,
   "id": "689db501",
   "metadata": {},
   "outputs": [],
   "source": []
  },
  {
   "cell_type": "code",
   "execution_count": null,
   "id": "8967061c",
   "metadata": {},
   "outputs": [],
   "source": [
    "# Write a Python function that accepts a string and calculate the number of upper case letters and lower case letters.\n"
   ]
  },
  {
   "cell_type": "code",
   "execution_count": 56,
   "id": "dc8469ed",
   "metadata": {},
   "outputs": [
    {
     "name": "stdout",
     "output_type": "stream",
     "text": [
      "Enter any string:\tThe quick Brow Fox\n",
      "The number of uppercase characters is:\n",
      "3\n",
      "The number of lowercase characters is:\n",
      "12\n"
     ]
    }
   ],
   "source": [
    "any_letter=input(\"Enter any string:\\t\")\n",
    "count_lower=0\n",
    "count_upper=0\n",
    "for i in any_letter:\n",
    "    if(i.islower()):\n",
    "            count_lower=count_lower+1\n",
    "    elif(i.isupper()):\n",
    "            count_upper=count_upper+1\n",
    "\n",
    "print(\"The number of uppercase characters is:\")\n",
    "print(count_upper)            \n",
    "print(\"The number of lowercase characters is:\")\n",
    "print(count_lower)"
   ]
  },
  {
   "cell_type": "code",
   "execution_count": null,
   "id": "0c875bdd",
   "metadata": {},
   "outputs": [],
   "source": [
    "\n"
   ]
  },
  {
   "cell_type": "code",
   "execution_count": null,
   "id": "ac8b0ad1",
   "metadata": {},
   "outputs": [],
   "source": []
  }
 ],
 "metadata": {
  "kernelspec": {
   "display_name": "Python 3",
   "language": "python",
   "name": "python3"
  },
  "language_info": {
   "codemirror_mode": {
    "name": "ipython",
    "version": 3
   },
   "file_extension": ".py",
   "mimetype": "text/x-python",
   "name": "python",
   "nbconvert_exporter": "python",
   "pygments_lexer": "ipython3",
   "version": "3.8.8"
  }
 },
 "nbformat": 4,
 "nbformat_minor": 5
}
