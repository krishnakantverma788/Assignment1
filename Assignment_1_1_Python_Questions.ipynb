{
 "cells": [
  {
   "cell_type": "code",
   "execution_count": null,
   "id": "7c1d4c12",
   "metadata": {},
   "outputs": [],
   "source": [
    "Q1. x = 123, What is type of x."
   ]
  },
  {
   "cell_type": "code",
   "execution_count": null,
   "id": "6ba290a1",
   "metadata": {},
   "outputs": [],
   "source": [
    "Q2. if we change one data type to another, than it is called"
   ]
  },
  {
   "cell_type": "code",
   "execution_count": null,
   "id": "c00318c8",
   "metadata": {},
   "outputs": [],
   "source": [
    "Q3. Write a syntax of set data type."
   ]
  },
  {
   "cell_type": "code",
   "execution_count": null,
   "id": "baa5844d",
   "metadata": {},
   "outputs": [],
   "source": [
    "Q4. x=3.123, than int(x) will give"
   ]
  },
  {
   "cell_type": "code",
   "execution_count": null,
   "id": "d3f0fb73",
   "metadata": {},
   "outputs": [],
   "source": [
    "Q5. Python Program to Add Two Numbers."
   ]
  },
  {
   "cell_type": "code",
   "execution_count": null,
   "id": "adeb4433",
   "metadata": {},
   "outputs": [],
   "source": [
    "Q6. In which data type indexing is not valid"
   ]
  },
  {
   "cell_type": "code",
   "execution_count": null,
   "id": "f17a55d9",
   "metadata": {},
   "outputs": [],
   "source": [
    "Q7. l= [1,2,3,4,5], which of the data is this?"
   ]
  },
  {
   "cell_type": "code",
   "execution_count": null,
   "id": "c5a24a9e",
   "metadata": {},
   "outputs": [],
   "source": [
    "Q8. WHich of the functions are used convert the string into the list? "
   ]
  },
  {
   "cell_type": "code",
   "execution_count": null,
   "id": "6505f9c5",
   "metadata": {},
   "outputs": [],
   "source": [
    "Q9. Write a python program to calculate the area of a triangle."
   ]
  },
  {
   "cell_type": "code",
   "execution_count": null,
   "id": "b4aed54d",
   "metadata": {},
   "outputs": [],
   "source": [
    "Q10. Python Program to Check if a Number is Odd or Even"
   ]
  },
  {
   "cell_type": "code",
   "execution_count": null,
   "id": "3cd9a1f3",
   "metadata": {},
   "outputs": [],
   "source": [
    "Q11. Python Program to Check Leap Year"
   ]
  },
  {
   "cell_type": "code",
   "execution_count": null,
   "id": "ec2acd8e",
   "metadata": {},
   "outputs": [],
   "source": [
    "Q12. Python Program to Find the Largest Among Three Numbers"
   ]
  },
  {
   "cell_type": "code",
   "execution_count": null,
   "id": "3e5a35aa",
   "metadata": {},
   "outputs": [],
   "source": [
    "Q13. Python Program to Find the Factorial of a Number"
   ]
  },
  {
   "cell_type": "code",
   "execution_count": null,
   "id": "04bbe221",
   "metadata": {},
   "outputs": [],
   "source": [
    "Q14. Python Program to Find the Sum of Natural Numbers"
   ]
  },
  {
   "cell_type": "code",
   "execution_count": null,
   "id": "85e4e30f",
   "metadata": {},
   "outputs": [],
   "source": [
    "Q15. After applying the filter() function on the list, the number of item in the list will always?"
   ]
  },
  {
   "cell_type": "code",
   "execution_count": null,
   "id": "9b457887",
   "metadata": {},
   "outputs": [],
   "source": [
    "Q16. correct syntax for the isalpha() function"
   ]
  },
  {
   "cell_type": "code",
   "execution_count": null,
   "id": "e2b43f71",
   "metadata": {},
   "outputs": [],
   "source": [
    "Q17. It is possible to create list inside a tuple & inside a list?"
   ]
  },
  {
   "cell_type": "code",
   "execution_count": null,
   "id": "c3f7a036",
   "metadata": {},
   "outputs": [],
   "source": [
    "Q18. Which function is used to pause the current execution"
   ]
  },
  {
   "cell_type": "code",
   "execution_count": null,
   "id": "e752f5fb",
   "metadata": {},
   "outputs": [],
   "source": [
    "Q19. WHich type of function we call as a argument in map function?"
   ]
  },
  {
   "cell_type": "code",
   "execution_count": null,
   "id": "6e7a65c3",
   "metadata": {},
   "outputs": [],
   "source": [
    "Q20. for I in [1.2.3]:, how many times a loop run?"
   ]
  }
 ],
 "metadata": {
  "kernelspec": {
   "display_name": "Python 3",
   "language": "python",
   "name": "python3"
  },
  "language_info": {
   "codemirror_mode": {
    "name": "ipython",
    "version": 3
   },
   "file_extension": ".py",
   "mimetype": "text/x-python",
   "name": "python",
   "nbconvert_exporter": "python",
   "pygments_lexer": "ipython3",
   "version": "3.8.8"
  }
 },
 "nbformat": 4,
 "nbformat_minor": 5
}
